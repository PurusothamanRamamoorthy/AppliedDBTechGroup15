{
 "cells": [
  {
   "cell_type": "markdown",
   "id": "47536951",
   "metadata": {},
   "source": [
    "# Group 15 Final Project\n",
    "## Data Preparation Activities"
   ]
  },
  {
   "cell_type": "markdown",
   "id": "48b0f8d9",
   "metadata": {},
   "source": [
    "We'll use pandas exclusively for importing the raw data, reducing the data set to the columns of interest, and exporting as CSV for easy import into a database.  We'll repeat the process 5 times for the 5 source files, one for each year from 2018-2022."
   ]
  },
  {
   "cell_type": "code",
   "execution_count": 1,
   "id": "d109d2cf",
   "metadata": {},
   "outputs": [],
   "source": [
    "# Import necessary library.\n",
    "import pandas as pd"
   ]
  },
  {
   "cell_type": "code",
   "execution_count": 2,
   "id": "fa56a50a",
   "metadata": {},
   "outputs": [],
   "source": [
    "# Read the full, raw csv file for 2018.\n",
    "combined2018_full = pd.read_csv(\"./Combined_Flights_2018.csv\")"
   ]
  },
  {
   "cell_type": "code",
   "execution_count": 3,
   "id": "91fa0263",
   "metadata": {},
   "outputs": [
    {
     "data": {
      "text/html": [
       "<div>\n",
       "<style scoped>\n",
       "    .dataframe tbody tr th:only-of-type {\n",
       "        vertical-align: middle;\n",
       "    }\n",
       "\n",
       "    .dataframe tbody tr th {\n",
       "        vertical-align: top;\n",
       "    }\n",
       "\n",
       "    .dataframe thead th {\n",
       "        text-align: right;\n",
       "    }\n",
       "</style>\n",
       "<table border=\"1\" class=\"dataframe\">\n",
       "  <thead>\n",
       "    <tr style=\"text-align: right;\">\n",
       "      <th></th>\n",
       "      <th>FlightDate</th>\n",
       "      <th>Airline</th>\n",
       "      <th>Origin</th>\n",
       "      <th>Dest</th>\n",
       "      <th>Cancelled</th>\n",
       "      <th>Diverted</th>\n",
       "      <th>CRSDepTime</th>\n",
       "      <th>DepTime</th>\n",
       "      <th>DepDelayMinutes</th>\n",
       "      <th>DepDelay</th>\n",
       "      <th>...</th>\n",
       "      <th>WheelsOff</th>\n",
       "      <th>WheelsOn</th>\n",
       "      <th>TaxiIn</th>\n",
       "      <th>CRSArrTime</th>\n",
       "      <th>ArrDelay</th>\n",
       "      <th>ArrDel15</th>\n",
       "      <th>ArrivalDelayGroups</th>\n",
       "      <th>ArrTimeBlk</th>\n",
       "      <th>DistanceGroup</th>\n",
       "      <th>DivAirportLandings</th>\n",
       "    </tr>\n",
       "  </thead>\n",
       "  <tbody>\n",
       "    <tr>\n",
       "      <th>0</th>\n",
       "      <td>2018-01-23</td>\n",
       "      <td>Endeavor Air Inc.</td>\n",
       "      <td>ABY</td>\n",
       "      <td>ATL</td>\n",
       "      <td>False</td>\n",
       "      <td>False</td>\n",
       "      <td>1202</td>\n",
       "      <td>1157.0</td>\n",
       "      <td>0.0</td>\n",
       "      <td>-5.0</td>\n",
       "      <td>...</td>\n",
       "      <td>1211.0</td>\n",
       "      <td>1249.0</td>\n",
       "      <td>7.0</td>\n",
       "      <td>1304</td>\n",
       "      <td>-8.0</td>\n",
       "      <td>0.0</td>\n",
       "      <td>-1.0</td>\n",
       "      <td>1300-1359</td>\n",
       "      <td>1</td>\n",
       "      <td>0.0</td>\n",
       "    </tr>\n",
       "    <tr>\n",
       "      <th>1</th>\n",
       "      <td>2018-01-24</td>\n",
       "      <td>Endeavor Air Inc.</td>\n",
       "      <td>ABY</td>\n",
       "      <td>ATL</td>\n",
       "      <td>False</td>\n",
       "      <td>False</td>\n",
       "      <td>1202</td>\n",
       "      <td>1157.0</td>\n",
       "      <td>0.0</td>\n",
       "      <td>-5.0</td>\n",
       "      <td>...</td>\n",
       "      <td>1210.0</td>\n",
       "      <td>1246.0</td>\n",
       "      <td>12.0</td>\n",
       "      <td>1304</td>\n",
       "      <td>-6.0</td>\n",
       "      <td>0.0</td>\n",
       "      <td>-1.0</td>\n",
       "      <td>1300-1359</td>\n",
       "      <td>1</td>\n",
       "      <td>0.0</td>\n",
       "    </tr>\n",
       "    <tr>\n",
       "      <th>2</th>\n",
       "      <td>2018-01-25</td>\n",
       "      <td>Endeavor Air Inc.</td>\n",
       "      <td>ABY</td>\n",
       "      <td>ATL</td>\n",
       "      <td>False</td>\n",
       "      <td>False</td>\n",
       "      <td>1202</td>\n",
       "      <td>1153.0</td>\n",
       "      <td>0.0</td>\n",
       "      <td>-9.0</td>\n",
       "      <td>...</td>\n",
       "      <td>1211.0</td>\n",
       "      <td>1251.0</td>\n",
       "      <td>11.0</td>\n",
       "      <td>1304</td>\n",
       "      <td>-2.0</td>\n",
       "      <td>0.0</td>\n",
       "      <td>-1.0</td>\n",
       "      <td>1300-1359</td>\n",
       "      <td>1</td>\n",
       "      <td>0.0</td>\n",
       "    </tr>\n",
       "    <tr>\n",
       "      <th>3</th>\n",
       "      <td>2018-01-26</td>\n",
       "      <td>Endeavor Air Inc.</td>\n",
       "      <td>ABY</td>\n",
       "      <td>ATL</td>\n",
       "      <td>False</td>\n",
       "      <td>False</td>\n",
       "      <td>1202</td>\n",
       "      <td>1150.0</td>\n",
       "      <td>0.0</td>\n",
       "      <td>-12.0</td>\n",
       "      <td>...</td>\n",
       "      <td>1207.0</td>\n",
       "      <td>1242.0</td>\n",
       "      <td>11.0</td>\n",
       "      <td>1304</td>\n",
       "      <td>-11.0</td>\n",
       "      <td>0.0</td>\n",
       "      <td>-1.0</td>\n",
       "      <td>1300-1359</td>\n",
       "      <td>1</td>\n",
       "      <td>0.0</td>\n",
       "    </tr>\n",
       "    <tr>\n",
       "      <th>4</th>\n",
       "      <td>2018-01-27</td>\n",
       "      <td>Endeavor Air Inc.</td>\n",
       "      <td>ABY</td>\n",
       "      <td>ATL</td>\n",
       "      <td>False</td>\n",
       "      <td>False</td>\n",
       "      <td>1400</td>\n",
       "      <td>1355.0</td>\n",
       "      <td>0.0</td>\n",
       "      <td>-5.0</td>\n",
       "      <td>...</td>\n",
       "      <td>1412.0</td>\n",
       "      <td>1448.0</td>\n",
       "      <td>11.0</td>\n",
       "      <td>1500</td>\n",
       "      <td>-1.0</td>\n",
       "      <td>0.0</td>\n",
       "      <td>-1.0</td>\n",
       "      <td>1500-1559</td>\n",
       "      <td>1</td>\n",
       "      <td>0.0</td>\n",
       "    </tr>\n",
       "  </tbody>\n",
       "</table>\n",
       "<p>5 rows × 61 columns</p>\n",
       "</div>"
      ],
      "text/plain": [
       "   FlightDate            Airline Origin Dest  Cancelled  Diverted  CRSDepTime  \\\n",
       "0  2018-01-23  Endeavor Air Inc.    ABY  ATL      False     False        1202   \n",
       "1  2018-01-24  Endeavor Air Inc.    ABY  ATL      False     False        1202   \n",
       "2  2018-01-25  Endeavor Air Inc.    ABY  ATL      False     False        1202   \n",
       "3  2018-01-26  Endeavor Air Inc.    ABY  ATL      False     False        1202   \n",
       "4  2018-01-27  Endeavor Air Inc.    ABY  ATL      False     False        1400   \n",
       "\n",
       "   DepTime  DepDelayMinutes  DepDelay  ...  WheelsOff  WheelsOn  TaxiIn  \\\n",
       "0   1157.0              0.0      -5.0  ...     1211.0    1249.0     7.0   \n",
       "1   1157.0              0.0      -5.0  ...     1210.0    1246.0    12.0   \n",
       "2   1153.0              0.0      -9.0  ...     1211.0    1251.0    11.0   \n",
       "3   1150.0              0.0     -12.0  ...     1207.0    1242.0    11.0   \n",
       "4   1355.0              0.0      -5.0  ...     1412.0    1448.0    11.0   \n",
       "\n",
       "   CRSArrTime  ArrDelay  ArrDel15  ArrivalDelayGroups  ArrTimeBlk  \\\n",
       "0        1304      -8.0       0.0                -1.0   1300-1359   \n",
       "1        1304      -6.0       0.0                -1.0   1300-1359   \n",
       "2        1304      -2.0       0.0                -1.0   1300-1359   \n",
       "3        1304     -11.0       0.0                -1.0   1300-1359   \n",
       "4        1500      -1.0       0.0                -1.0   1500-1559   \n",
       "\n",
       "   DistanceGroup  DivAirportLandings  \n",
       "0              1                 0.0  \n",
       "1              1                 0.0  \n",
       "2              1                 0.0  \n",
       "3              1                 0.0  \n",
       "4              1                 0.0  \n",
       "\n",
       "[5 rows x 61 columns]"
      ]
     },
     "execution_count": 3,
     "metadata": {},
     "output_type": "execute_result"
    }
   ],
   "source": [
    "# Show the result of the import.\n",
    "combined2018_full.head()"
   ]
  },
  {
   "cell_type": "code",
   "execution_count": 4,
   "id": "5cac3ec6",
   "metadata": {},
   "outputs": [],
   "source": [
    "# Create a data frame to eliminate columns from the data we are not interested in.\n",
    "combined2018_reduced = combined2018_full[[\"FlightDate\",\"Airline\",\"Origin\",\"Dest\",\"Cancelled\",\"Diverted\",\"DepDelayMinutes\",\"Month\",\"DayofMonth\",\"Flight_Number_Operating_Airline\",\"OriginCityName\",\"OriginState\",\"OriginStateName\"]]"
   ]
  },
  {
   "cell_type": "code",
   "execution_count": 5,
   "id": "392db305",
   "metadata": {},
   "outputs": [
    {
     "data": {
      "text/html": [
       "<div>\n",
       "<style scoped>\n",
       "    .dataframe tbody tr th:only-of-type {\n",
       "        vertical-align: middle;\n",
       "    }\n",
       "\n",
       "    .dataframe tbody tr th {\n",
       "        vertical-align: top;\n",
       "    }\n",
       "\n",
       "    .dataframe thead th {\n",
       "        text-align: right;\n",
       "    }\n",
       "</style>\n",
       "<table border=\"1\" class=\"dataframe\">\n",
       "  <thead>\n",
       "    <tr style=\"text-align: right;\">\n",
       "      <th></th>\n",
       "      <th>FlightDate</th>\n",
       "      <th>Airline</th>\n",
       "      <th>Origin</th>\n",
       "      <th>Dest</th>\n",
       "      <th>Cancelled</th>\n",
       "      <th>Diverted</th>\n",
       "      <th>DepDelayMinutes</th>\n",
       "      <th>Month</th>\n",
       "      <th>DayofMonth</th>\n",
       "      <th>Flight_Number_Operating_Airline</th>\n",
       "      <th>OriginCityName</th>\n",
       "      <th>OriginState</th>\n",
       "      <th>OriginStateName</th>\n",
       "    </tr>\n",
       "  </thead>\n",
       "  <tbody>\n",
       "    <tr>\n",
       "      <th>0</th>\n",
       "      <td>2018-01-23</td>\n",
       "      <td>Endeavor Air Inc.</td>\n",
       "      <td>ABY</td>\n",
       "      <td>ATL</td>\n",
       "      <td>False</td>\n",
       "      <td>False</td>\n",
       "      <td>0.0</td>\n",
       "      <td>1</td>\n",
       "      <td>23</td>\n",
       "      <td>3298</td>\n",
       "      <td>Albany, GA</td>\n",
       "      <td>GA</td>\n",
       "      <td>Georgia</td>\n",
       "    </tr>\n",
       "    <tr>\n",
       "      <th>1</th>\n",
       "      <td>2018-01-24</td>\n",
       "      <td>Endeavor Air Inc.</td>\n",
       "      <td>ABY</td>\n",
       "      <td>ATL</td>\n",
       "      <td>False</td>\n",
       "      <td>False</td>\n",
       "      <td>0.0</td>\n",
       "      <td>1</td>\n",
       "      <td>24</td>\n",
       "      <td>3298</td>\n",
       "      <td>Albany, GA</td>\n",
       "      <td>GA</td>\n",
       "      <td>Georgia</td>\n",
       "    </tr>\n",
       "    <tr>\n",
       "      <th>2</th>\n",
       "      <td>2018-01-25</td>\n",
       "      <td>Endeavor Air Inc.</td>\n",
       "      <td>ABY</td>\n",
       "      <td>ATL</td>\n",
       "      <td>False</td>\n",
       "      <td>False</td>\n",
       "      <td>0.0</td>\n",
       "      <td>1</td>\n",
       "      <td>25</td>\n",
       "      <td>3298</td>\n",
       "      <td>Albany, GA</td>\n",
       "      <td>GA</td>\n",
       "      <td>Georgia</td>\n",
       "    </tr>\n",
       "    <tr>\n",
       "      <th>3</th>\n",
       "      <td>2018-01-26</td>\n",
       "      <td>Endeavor Air Inc.</td>\n",
       "      <td>ABY</td>\n",
       "      <td>ATL</td>\n",
       "      <td>False</td>\n",
       "      <td>False</td>\n",
       "      <td>0.0</td>\n",
       "      <td>1</td>\n",
       "      <td>26</td>\n",
       "      <td>3298</td>\n",
       "      <td>Albany, GA</td>\n",
       "      <td>GA</td>\n",
       "      <td>Georgia</td>\n",
       "    </tr>\n",
       "    <tr>\n",
       "      <th>4</th>\n",
       "      <td>2018-01-27</td>\n",
       "      <td>Endeavor Air Inc.</td>\n",
       "      <td>ABY</td>\n",
       "      <td>ATL</td>\n",
       "      <td>False</td>\n",
       "      <td>False</td>\n",
       "      <td>0.0</td>\n",
       "      <td>1</td>\n",
       "      <td>27</td>\n",
       "      <td>3298</td>\n",
       "      <td>Albany, GA</td>\n",
       "      <td>GA</td>\n",
       "      <td>Georgia</td>\n",
       "    </tr>\n",
       "  </tbody>\n",
       "</table>\n",
       "</div>"
      ],
      "text/plain": [
       "   FlightDate            Airline Origin Dest  Cancelled  Diverted  \\\n",
       "0  2018-01-23  Endeavor Air Inc.    ABY  ATL      False     False   \n",
       "1  2018-01-24  Endeavor Air Inc.    ABY  ATL      False     False   \n",
       "2  2018-01-25  Endeavor Air Inc.    ABY  ATL      False     False   \n",
       "3  2018-01-26  Endeavor Air Inc.    ABY  ATL      False     False   \n",
       "4  2018-01-27  Endeavor Air Inc.    ABY  ATL      False     False   \n",
       "\n",
       "   DepDelayMinutes  Month  DayofMonth  Flight_Number_Operating_Airline  \\\n",
       "0              0.0      1          23                             3298   \n",
       "1              0.0      1          24                             3298   \n",
       "2              0.0      1          25                             3298   \n",
       "3              0.0      1          26                             3298   \n",
       "4              0.0      1          27                             3298   \n",
       "\n",
       "  OriginCityName OriginState OriginStateName  \n",
       "0     Albany, GA          GA         Georgia  \n",
       "1     Albany, GA          GA         Georgia  \n",
       "2     Albany, GA          GA         Georgia  \n",
       "3     Albany, GA          GA         Georgia  \n",
       "4     Albany, GA          GA         Georgia  "
      ]
     },
     "execution_count": 5,
     "metadata": {},
     "output_type": "execute_result"
    }
   ],
   "source": [
    "# View the reduced data set.\n",
    "combined2018_reduced.head()"
   ]
  },
  {
   "cell_type": "code",
   "execution_count": null,
   "id": "db3bbfa8",
   "metadata": {},
   "outputs": [],
   "source": [
    "# Export the reduced data set to CSV.\n",
    "combined2018_reduced.to_csv('Combined_Flights_2018_reduced.csv', index=False)"
   ]
  },
  {
   "cell_type": "markdown",
   "id": "f66e1fdb",
   "metadata": {},
   "source": [
    "### Repeat the process for 2019"
   ]
  },
  {
   "cell_type": "code",
   "execution_count": null,
   "id": "9243fd9c",
   "metadata": {},
   "outputs": [],
   "source": [
    "combined2019_full = pd.read_csv(\"./Combined_Flights_2019.csv\")"
   ]
  },
  {
   "cell_type": "code",
   "execution_count": null,
   "id": "98d6169e",
   "metadata": {},
   "outputs": [],
   "source": [
    "combined2019_full.head()"
   ]
  },
  {
   "cell_type": "code",
   "execution_count": null,
   "id": "0154318e",
   "metadata": {},
   "outputs": [],
   "source": [
    "combined2019_reduced = combined2019_full[[\"FlightDate\",\"Airline\",\"Origin\",\"Dest\",\"Cancelled\",\"Diverted\",\"DepDelayMinutes\",\"Month\",\"DayofMonth\",\"Flight_Number_Operating_Airline\",\"OriginCityName\",\"OriginState\",\"OriginStateName\"]]"
   ]
  },
  {
   "cell_type": "code",
   "execution_count": null,
   "id": "4adc94c1",
   "metadata": {},
   "outputs": [],
   "source": [
    "combined2019_reduced.head()"
   ]
  },
  {
   "cell_type": "code",
   "execution_count": null,
   "id": "7fa55091",
   "metadata": {},
   "outputs": [],
   "source": [
    "combined2019_reduced.to_csv('Combined_Flights_2019_reduced.csv', index=False)"
   ]
  },
  {
   "cell_type": "markdown",
   "id": "1bbb013f",
   "metadata": {},
   "source": [
    "### Repeat the process for 2020"
   ]
  },
  {
   "cell_type": "code",
   "execution_count": null,
   "id": "5ba2654a",
   "metadata": {},
   "outputs": [],
   "source": [
    "combined2020_full = pd.read_csv(\"./Combined_Flights_2020.csv\")"
   ]
  },
  {
   "cell_type": "code",
   "execution_count": null,
   "id": "9e1aa002",
   "metadata": {},
   "outputs": [],
   "source": [
    "combined2020_full.head()"
   ]
  },
  {
   "cell_type": "code",
   "execution_count": null,
   "id": "392263a0",
   "metadata": {},
   "outputs": [],
   "source": [
    "combined2020_reduced = combined2020_full[[\"FlightDate\",\"Airline\",\"Origin\",\"Dest\",\"Cancelled\",\"Diverted\",\"DepDelayMinutes\",\"Month\",\"DayofMonth\",\"Flight_Number_Operating_Airline\",\"OriginCityName\",\"OriginState\",\"OriginStateName\"]]"
   ]
  },
  {
   "cell_type": "code",
   "execution_count": null,
   "id": "ebc26ac9",
   "metadata": {},
   "outputs": [],
   "source": [
    "combined2020_reduced.head()"
   ]
  },
  {
   "cell_type": "code",
   "execution_count": null,
   "id": "45457176",
   "metadata": {},
   "outputs": [],
   "source": [
    "combined2020_reduced.to_csv('Combined_Flights_2020_reduced.csv', index=False)"
   ]
  },
  {
   "cell_type": "markdown",
   "id": "c1464690",
   "metadata": {},
   "source": [
    "### Repeat the process 2021"
   ]
  },
  {
   "cell_type": "code",
   "execution_count": null,
   "id": "5c979a2c",
   "metadata": {},
   "outputs": [],
   "source": [
    "combined2021_full = pd.read_csv(\"./Combined_Flights_2021.csv\")"
   ]
  },
  {
   "cell_type": "code",
   "execution_count": null,
   "id": "4e232756",
   "metadata": {},
   "outputs": [],
   "source": [
    "combined2021_full.head()"
   ]
  },
  {
   "cell_type": "code",
   "execution_count": null,
   "id": "79da5b1f",
   "metadata": {},
   "outputs": [],
   "source": [
    "combined2021_reduced = combined2021_full[[\"FlightDate\",\"Airline\",\"Origin\",\"Dest\",\"Cancelled\",\"Diverted\",\"DepDelayMinutes\",\"Month\",\"DayofMonth\",\"Flight_Number_Operating_Airline\",\"OriginCityName\",\"OriginState\",\"OriginStateName\"]]"
   ]
  },
  {
   "cell_type": "code",
   "execution_count": null,
   "id": "b9c45237",
   "metadata": {},
   "outputs": [],
   "source": [
    "combined2021_reduced.head()"
   ]
  },
  {
   "cell_type": "code",
   "execution_count": null,
   "id": "ff5319d7",
   "metadata": {},
   "outputs": [],
   "source": [
    "combined2021_reduced.to_csv('Combined_Flights_2021_reduced.csv', index=False)"
   ]
  },
  {
   "cell_type": "markdown",
   "id": "aed0f787",
   "metadata": {},
   "source": [
    "### Repeat the process for 2022"
   ]
  },
  {
   "cell_type": "code",
   "execution_count": null,
   "id": "673892f3",
   "metadata": {},
   "outputs": [],
   "source": [
    "combined2022_full = pd.read_csv(\"./Combined_Flights_2022.csv\")"
   ]
  },
  {
   "cell_type": "code",
   "execution_count": null,
   "id": "56873bdc",
   "metadata": {},
   "outputs": [],
   "source": [
    "combined2022_full.head()"
   ]
  },
  {
   "cell_type": "code",
   "execution_count": null,
   "id": "2de11345",
   "metadata": {},
   "outputs": [],
   "source": [
    "combined2022_reduced = combined2022_full[[\"FlightDate\",\"Airline\",\"Origin\",\"Dest\",\"Cancelled\",\"Diverted\",\"DepDelayMinutes\",\"Month\",\"DayofMonth\",\"Flight_Number_Operating_Airline\",\"OriginCityName\",\"OriginState\",\"OriginStateName\"]]"
   ]
  },
  {
   "cell_type": "code",
   "execution_count": null,
   "id": "bcb8c71d",
   "metadata": {},
   "outputs": [],
   "source": [
    "combined2022_reduced.head()"
   ]
  },
  {
   "cell_type": "code",
   "execution_count": null,
   "id": "8f87e23f",
   "metadata": {},
   "outputs": [],
   "source": [
    "combined2022_reduced.to_csv('Combined_Flights_2022_reduced.csv', index=False)"
   ]
  }
 ],
 "metadata": {
  "kernelspec": {
   "display_name": "Python 3 (ipykernel)",
   "language": "python",
   "name": "python3"
  },
  "language_info": {
   "codemirror_mode": {
    "name": "ipython",
    "version": 3
   },
   "file_extension": ".py",
   "mimetype": "text/x-python",
   "name": "python",
   "nbconvert_exporter": "python",
   "pygments_lexer": "ipython3",
   "version": "3.9.13"
  }
 },
 "nbformat": 4,
 "nbformat_minor": 5
}
